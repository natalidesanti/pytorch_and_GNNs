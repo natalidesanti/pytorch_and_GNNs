{
 "cells": [
  {
   "cell_type": "markdown",
   "id": "b4394bca-4337-4d8d-950b-248f9914f386",
   "metadata": {},
   "source": [
    "# Pytorch\n",
    "\n",
    "### By: [Natalí de Santi](https://natalidesanti.github.io), email: [natalidesanti@gmail.com](natalidesanti@gmail.com)"
   ]
  },
  {
   "cell_type": "markdown",
   "id": "d3a69df7-8e02-431d-a396-21d79af8a29d",
   "metadata": {},
   "source": [
    "In this tutorial we will use `Pytorch` to solve a simple _regression problem_.\n",
    "\n",
    "## Summary\n",
    "\n",
    "* Importing the libraries\n",
    "* Setting the CPU/GPU to use\n",
    "* Generating the dataset\n",
    "* Transforming the dataset to use it in `pytorch`\n",
    "* Defining the model\n",
    "* Defining the `optimizer` and `loss function`\n",
    "* Training and validating the model\n",
    "* Taking a look at the loss function\n",
    "* Testing the model in the test set\n",
    "\n",
    "## Running options\n",
    "\n",
    "* **On the fly:** you can easily work with this notebook in `Google Colab`: [![Open this notebook in Colab](https://colab.research.google.com/assets/colab-badge.svg)](https://github.com/natalidesanti/pytorch_and_GNNs/blob/main/pytorch.ipynb)\n",
    "\n",
    "* **Own computer:** otherwise you can download the notebook in your own computer and work with it in your own space. Just take care with the library dependencies. "
   ]
  },
  {
   "cell_type": "markdown",
   "id": "f2722b1e-463e-40ea-9dc1-796b350c6175",
   "metadata": {},
   "source": [
    "## 0) Importing the libraries"
   ]
  },
  {
   "cell_type": "code",
   "execution_count": 1,
   "id": "3bd6b6ae-eed9-40a2-b531-27273f853156",
   "metadata": {},
   "outputs": [],
   "source": [
    "import numpy as np\n",
    "import torch\n",
    "import torch.nn as nn\n",
    "import torch.backends.cudnn as cudnn\n",
    "from torch.utils.data.dataset import Dataset\n",
    "from torch.utils.data import DataLoader, TensorDataset\n",
    "import time, sys, os\n",
    "import matplotlib.pyplot as plt\n",
    "import pandas as pd\n",
    "from torch.autograd import Variable\n",
    "import torch.nn.functional as F\n",
    "from torchvision import datasets, transforms"
   ]
  },
  {
   "cell_type": "markdown",
   "id": "ed6e2662-2358-4611-ad9d-d28fae4d9646",
   "metadata": {},
   "source": [
    "## 1) Setting the CPU/GPU to use"
   ]
  },
  {
   "cell_type": "code",
   "execution_count": 2,
   "id": "5c16d86c-9a1e-45eb-9367-33733d6b26b7",
   "metadata": {},
   "outputs": [
    {
     "data": {
      "text/plain": [
       "device(type='mps')"
      ]
     },
     "execution_count": 2,
     "metadata": {},
     "output_type": "execute_result"
    }
   ],
   "source": [
    "# Use GPU for training\n",
    "#device = torch.device(\"cuda:0\" if torch.cuda.is_available() else \"cpu\") #For Linux\n",
    "device = torch.device(\"mps\" if torch.backends.mps.is_available() else \"cpu\") #For Macs\n",
    "device"
   ]
  },
  {
   "cell_type": "markdown",
   "id": "5561edc5-28d1-4d2d-8593-67d3ed050cb4",
   "metadata": {},
   "source": [
    "## 2) Generating the dataset"
   ]
  },
  {
   "cell_type": "code",
   "execution_count": 3,
   "id": "8de4e8d3-b003-4605-bccf-3dca843f9587",
   "metadata": {},
   "outputs": [],
   "source": [
    "#Create Dataset \n",
    "def generate_data(a, b, num_examples):  \n",
    "    '''\n",
    "    Generate y = a x + b + noise\n",
    "    '''\n",
    "\n",
    "    x = np.random.uniform(0, 1, num_examples)\n",
    "    y = a*x + b\n",
    "    y += np.random.normal(0, 0.05, num_examples)\n",
    "\n",
    "    df = pd.DataFrame(data = np.array([x, y]).T, columns = ['x', 'y'])\n",
    "    \n",
    "    return df"
   ]
  },
  {
   "cell_type": "code",
   "execution_count": 4,
   "id": "5afba793-9b65-4169-8549-5ac424024929",
   "metadata": {},
   "outputs": [
    {
     "data": {
      "text/html": [
       "<div>\n",
       "<style scoped>\n",
       "    .dataframe tbody tr th:only-of-type {\n",
       "        vertical-align: middle;\n",
       "    }\n",
       "\n",
       "    .dataframe tbody tr th {\n",
       "        vertical-align: top;\n",
       "    }\n",
       "\n",
       "    .dataframe thead th {\n",
       "        text-align: right;\n",
       "    }\n",
       "</style>\n",
       "<table border=\"1\" class=\"dataframe\">\n",
       "  <thead>\n",
       "    <tr style=\"text-align: right;\">\n",
       "      <th></th>\n",
       "      <th>x</th>\n",
       "      <th>y</th>\n",
       "    </tr>\n",
       "  </thead>\n",
       "  <tbody>\n",
       "    <tr>\n",
       "      <th>0</th>\n",
       "      <td>0.191666</td>\n",
       "      <td>4.238262</td>\n",
       "    </tr>\n",
       "    <tr>\n",
       "      <th>1</th>\n",
       "      <td>0.589817</td>\n",
       "      <td>4.214781</td>\n",
       "    </tr>\n",
       "    <tr>\n",
       "      <th>2</th>\n",
       "      <td>0.433586</td>\n",
       "      <td>4.189118</td>\n",
       "    </tr>\n",
       "    <tr>\n",
       "      <th>3</th>\n",
       "      <td>0.483165</td>\n",
       "      <td>4.253524</td>\n",
       "    </tr>\n",
       "    <tr>\n",
       "      <th>4</th>\n",
       "      <td>0.482801</td>\n",
       "      <td>4.245228</td>\n",
       "    </tr>\n",
       "  </tbody>\n",
       "</table>\n",
       "</div>"
      ],
      "text/plain": [
       "          x         y\n",
       "0  0.191666  4.238262\n",
       "1  0.589817  4.214781\n",
       "2  0.433586  4.189118\n",
       "3  0.483165  4.253524\n",
       "4  0.482801  4.245228"
      ]
     },
     "execution_count": 4,
     "metadata": {},
     "output_type": "execute_result"
    }
   ],
   "source": [
    "df = generate_data(0.5, 4.0, 2000)\n",
    "df.head(5)"
   ]
  },
  {
   "cell_type": "markdown",
   "id": "3f10a8a6-b5ed-4eb1-aa0a-9280b233cd8a",
   "metadata": {},
   "source": [
    "Looking at the data"
   ]
  },
  {
   "cell_type": "code",
   "execution_count": 5,
   "id": "a83f4651-0942-4c57-a858-e9c56a25a325",
   "metadata": {},
   "outputs": [
    {
     "data": {
      "text/plain": [
       "Text(0, 0.5, 'y')"
      ]
     },
     "execution_count": 5,
     "metadata": {},
     "output_type": "execute_result"
    },
    {
     "data": {
      "image/png": "[encoded data removed]",
      "text/plain": [
       "<Figure size 500x500 with 1 Axes>"
      ]
     },
     "metadata": {},
     "output_type": "display_data"
    }
   ],
   "source": [
    "plt.figure(dpi = 100, figsize = (5, 5))\n",
    "plt.title('Data')\n",
    "plt.scatter(df['x'], df['y'], s = 10)\n",
    "plt.xlabel('x')\n",
    "plt.ylabel('y')"
   ]
  },
  {
   "cell_type": "markdown",
   "id": "626f9b2a-7c54-4302-ae25-20bed593eb7e",
   "metadata": {},
   "source": [
    "In this tutorial we are going to:\n",
    "$$\\{x\\} \\Rightarrow \\{y\\}$$\n",
    "using a simple **Neural Network** using `Pytorch`."
   ]
  },
  {
   "cell_type": "markdown",
   "id": "fdd9fc63-b5fb-4ef6-8470-7a5489597d77",
   "metadata": {},
   "source": [
    "## 3) Transforming the dataset to use it in `pytorch`"
   ]
  },
  {
   "cell_type": "markdown",
   "id": "b11e425c-785e-49ea-b6b6-00f82562677b",
   "metadata": {},
   "source": [
    "1) We need to convert the data set in $3$ fractions:\n",
    "* Train\n",
    "* Validation\n",
    "* Test\n",
    "2) After this we need to transform the data set using:\n",
    "\\begin{equation}\n",
    " x \\Rightarrow \\frac{(x - x_{mean})}{x_{std}} ,\n",
    "\\end{equation}\n",
    "\\begin{equation}\n",
    " y \\Rightarrow \\frac{(y - y_{mean})}{(y_{max} - y_{min})} .\n",
    "\\end{equation}\n",
    "This is done to constrain the range of all the input variables ($x$, $y$) to small and similar values to get a faster convergence of the method.\n",
    "3) We need to convert the data into something to be understandable by `pytorch`. First we convert it in `tensors`, then, in `TensorDataSet`, and `DataLoader`. This last step split one more time the sets using `batches` (number of samples to work through before updating the internal model parameters)."
   ]
  },
  {
   "cell_type": "code",
   "execution_count": 6,
   "id": "32aa2997-e985-42b6-bc62-28d7533b9f5f",
   "metadata": {},
   "outputs": [],
   "source": [
    "def transform_dataset(df, frac_train, frac_val, batch_size):\n",
    "    '''\n",
    "    frac_train: fraction of the dataset to use in the training\n",
    "    frac_val:   fraction of the dataset to use in the validation\n",
    "    batch_size: number of samples to work through before updating the internal model parameters\n",
    "    '''\n",
    "\n",
    "    #Randomizing the dataset\n",
    "    df = df.sample(frac = 1)\n",
    "\n",
    "    #Getting the training, validation, and testing sets\n",
    "    x_train = np.array( [ df['x'].iloc[:int(df.shape[0]*frac_train)] ] ).T\n",
    "    y_train = np.array( [ df['y'].iloc[:int(df.shape[0]*frac_train)] ] ).T\n",
    "\n",
    "    x_val = np.array( [ df['x'].iloc[int(df.shape[0]*frac_train):int(df.shape[0]*(frac_train + frac_val))] ] ).T\n",
    "    y_val = np.array( [ df['y'].iloc[int(df.shape[0]*frac_train):int(df.shape[0]*(frac_train + frac_val))] ] ).T\n",
    "\n",
    "    x_test = np.array( [ df['x'].iloc[int(df.shape[0]*(frac_train + frac_val)):] ] ).T\n",
    "    y_test = np.array( [ df['y'].iloc[int(df.shape[0]*(frac_train + frac_val)):] ] ).T\n",
    "\n",
    "    #Getting the statistics from the training set \n",
    "    mean = np.mean(x_train, axis = 0)\n",
    "    std = np.std(x_train, axis = 0)\n",
    "    min = np.mean(y_train, axis = 0)\n",
    "    max = np.std(y_train, axis = 0)\n",
    "\n",
    "    #Tranforming the training set\n",
    "    x_train = (x_train - mean)/std\n",
    "    x_val = (x_val - mean)/std\n",
    "    x_test = (x_test - mean)/std\n",
    "\n",
    "    y_train = (y_train - min)/(max - min)\n",
    "    y_val = (y_val - min)/(max - min)\n",
    "    y_test = (y_test - min)/(max - min)\n",
    "\n",
    "    #Converting to torch reshaping\n",
    "    x_train = torch.from_numpy(x_train.reshape(-1, 1)).float()\n",
    "    y_train = torch.from_numpy(y_train.reshape(-1, 1)).float()\n",
    "\n",
    "    x_val = torch.from_numpy(x_val.reshape(-1, 1)).float()\n",
    "    y_val = torch.from_numpy(y_val.reshape(-1, 1)).float()\n",
    "\n",
    "    x_test = torch.from_numpy(x_test.reshape(-1, 1)).float()\n",
    "    y_test = torch.from_numpy(y_test.reshape(-1, 1)).float()\n",
    "\n",
    "    #Converting to tensor dataset\n",
    "    dataset_train = TensorDataset(x_train, y_train)\n",
    "    dataset_val = TensorDataset(x_val, y_val)\n",
    "    dataset_test = TensorDataset(x_test, y_test)\n",
    "\n",
    "    #Organizing in batches\n",
    "    train_loader = DataLoader(dataset = dataset_train, batch_size = batch_size)\n",
    "    val_loader = DataLoader(dataset = dataset_val, batch_size = batch_size)\n",
    "    test_loader = DataLoader(dataset = dataset_test, batch_size = batch_size)\n",
    "\n",
    "    return train_loader, val_loader, test_loader, mean, std, max, min"
   ]
  },
  {
   "cell_type": "code",
   "execution_count": 7,
   "id": "24cfbe37-4f02-4c20-af74-be15fd4bee88",
   "metadata": {},
   "outputs": [],
   "source": [
    "train_loader, val_loader, test_loader, mean, std, max, min = transform_dataset(df, 0.8, 0.1, 100)"
   ]
  },
  {
   "cell_type": "markdown",
   "id": "519e4afa-9305-4ce0-8d0b-31bff9a8443d",
   "metadata": {},
   "source": [
    "## 4) Defining the model"
   ]
  },
  {
   "cell_type": "markdown",
   "id": "608063b7-f3ca-490e-936a-bda7ea191709",
   "metadata": {},
   "source": [
    "### 4.1. Neural Networks\n",
    "\n",
    "A **neural network** is a collection of _nodes_ (neurons) that are arranged in a series of **layers**:\n",
    "\n",
    "![](https://www.tibco.com/sites/tibco/files/media_entity/2021-05/neutral-network-diagram.svg)\n",
    "###### [Image source: [https://www.tibco.com/sites/tibco/files/media_entity/2021-05/neutral-network-diagram.svg](https://www.tibco.com/sites/tibco/files/media_entity/2021-05/neutral-network-diagram.svg)]"
   ]
  },
  {
   "cell_type": "markdown",
   "id": "12f330e7-960f-4bd9-98de-026cf55c36eb",
   "metadata": {},
   "source": [
    "Each connection has a weight, $\\omega_i a_i$, and each layer is a summarization of them, plus a bias $b$, according to:\n",
    "\\begin{equation}\n",
    " b_{\\mu} + \\sum_{\\nu} W_{\\mu \\nu} a_{\\nu} .\n",
    "\\end{equation}\n",
    "\n",
    "Another numeric transformation called **activation function** is responsible for performing a non linear transformation of the values of each layer\n",
    "\\begin{equation}\n",
    " y_{\\mu} = f \\left( b_{\\mu} + \\sum_{\\nu} W_{\\mu \\nu} a_{\\nu} \\right) ,\n",
    "\\end{equation}\n",
    "This activation function can assume different forms:\n",
    "\n",
    "![](https://miro.medium.com/max/1200/1*ZafDv3VUm60Eh10OeJu1vw.png)\n",
    "###### [Image source: [https://miro.medium.com/max/1200/1*ZafDv3VUm60Eh10OeJu1vw.png](https://miro.medium.com/max/1200/1*ZafDv3VUm60Eh10OeJu1vw.png)]"
   ]
  },
  {
   "cell_type": "markdown",
   "id": "9c67cdd8-5f84-42fc-9a3f-f2bf6d4fc525",
   "metadata": {},
   "source": [
    "During the **training process** these _weights_ are adjusted through **epochs** in order to minimize the difference between the network predictions $y_{pred}$, and the target values $y_{target}$ through the minimization of a **loss function** (that also can assume different forms). In this tutorial we are going to use the **Mean Squared Error** (**MSE**)\n",
    "\\begin{equation}\n",
    " MSE = \\frac{1}{m} \\sum_{i = 1}^m (y_{pred} - y_{target})^2 .\n",
    "\\end{equation}"
   ]
  },
  {
   "cell_type": "code",
   "execution_count": 8,
   "id": "db1904b0-8a16-47b2-8a48-08c1f1f64bd3",
   "metadata": {},
   "outputs": [],
   "source": [
    "class model(nn.Module):\n",
    "  def __init__(self):\n",
    "\n",
    "    super(model, self).__init__() #Initiating the model\n",
    "\n",
    "    #Defining the linear layers and activation function\n",
    "    self.layer1 = nn.Linear(1, 8) \n",
    "    self.layer2 = nn.Linear(8, 16)\n",
    "    self.layer3 = nn.Linear(16, 1)\n",
    "    self.ReLU = nn.ReLU()\n",
    "\n",
    "  #Forward pass\n",
    "  def forward(self, x):\n",
    "    '''\n",
    "    Define the architecture at the same time as compute y\n",
    "    '''\n",
    "    x = self.ReLU(self.layer1(x))\n",
    "    x = self.ReLU(self.layer2(x))\n",
    "    y = self.layer3(x)\n",
    "      \n",
    "    return y"
   ]
  },
  {
   "cell_type": "markdown",
   "id": "351711e7-e931-4cef-b7d9-f332f34eca83",
   "metadata": {},
   "source": [
    "Instantiating the model"
   ]
  },
  {
   "cell_type": "code",
   "execution_count": 9,
   "id": "03b02a7c-ca80-4a54-851b-deaaefa5d2b4",
   "metadata": {},
   "outputs": [
    {
     "data": {
      "text/plain": [
       "model(\n",
       "  (layer1): Linear(in_features=1, out_features=8, bias=True)\n",
       "  (layer2): Linear(in_features=8, out_features=16, bias=True)\n",
       "  (layer3): Linear(in_features=16, out_features=1, bias=True)\n",
       "  (ReLU): ReLU()\n",
       ")"
      ]
     },
     "execution_count": 9,
     "metadata": {},
     "output_type": "execute_result"
    }
   ],
   "source": [
    "model = model().to(device)\n",
    "model"
   ]
  },
  {
   "cell_type": "markdown",
   "id": "29ef6ac6-a6cd-4c42-8606-f244b2d07269",
   "metadata": {},
   "source": [
    "Computing the number of parameters of the model"
   ]
  },
  {
   "cell_type": "code",
   "execution_count": 10,
   "id": "d72e4e58-75bd-4c9a-97b2-d2dcf1832b77",
   "metadata": {},
   "outputs": [],
   "source": [
    "network_total_params = sum(p.numel() for p in model.parameters())"
   ]
  },
  {
   "cell_type": "code",
   "execution_count": 11,
   "id": "313dcc4f-7e86-41d5-aafe-a18808ea778e",
   "metadata": {},
   "outputs": [
    {
     "name": "stdout",
     "output_type": "stream",
     "text": [
      "total number of parameters in the model = 177\n"
     ]
    }
   ],
   "source": [
    "print('total number of parameters in the model = %d'%network_total_params)"
   ]
  },
  {
   "cell_type": "markdown",
   "id": "6c3805a7-42de-49c2-a8e4-4b9ac535c1d7",
   "metadata": {},
   "source": [
    "## 5) Defining the `optimizer` and `loss function`\n",
    "\n",
    "* **optimizer:** algorithm that adjust the model parameters during training to minimize the loss function\n",
    "* **loss function:** a mathematical function that quantifies the difference between predicted and actual values"
   ]
  },
  {
   "cell_type": "code",
   "execution_count": 12,
   "id": "db914e46-621a-4751-a088-3ff60a708cff",
   "metadata": {},
   "outputs": [],
   "source": [
    "optimizer = torch.optim.Adam(model.parameters())\n",
    "loss_func = torch.nn.MSELoss()"
   ]
  },
  {
   "cell_type": "markdown",
   "id": "55df3c45-7e18-4c9b-b223-1f86e24be714",
   "metadata": {},
   "source": [
    "## 6) Training and validating the model"
   ]
  },
  {
   "cell_type": "code",
   "execution_count": 13,
   "id": "c72869b6-e4d7-4543-a315-509495dc5d58",
   "metadata": {},
   "outputs": [
    {
     "name": "stdout",
     "output_type": "stream",
     "text": [
      "Epoch 0 | Train Loss 0.0021974311384838074\n",
      "Epoch 0 | Val Loss 0.0005109090561745688\n",
      "Epoch 10 | Train Loss 0.00016224468981818063\n",
      "Epoch 10 | Val Loss 0.00014781698700971901\n",
      "Epoch 20 | Train Loss 0.00015373864653156488\n",
      "Epoch 20 | Val Loss 0.00014949002797948197\n",
      "Epoch 30 | Train Loss 0.00015157900816120673\n",
      "Epoch 30 | Val Loss 0.00015420983254443854\n",
      "Epoch 40 | Train Loss 0.0001513114361841872\n",
      "Epoch 40 | Val Loss 0.0001550241795484908\n",
      "Epoch 50 | Train Loss 0.00015125434765650425\n",
      "Epoch 50 | Val Loss 0.00015518005966441706\n",
      "Epoch 60 | Train Loss 0.00015120819625735749\n",
      "Epoch 60 | Val Loss 0.00015528569201705977\n",
      "Epoch 70 | Train Loss 0.00015118877490749583\n",
      "Epoch 70 | Val Loss 0.00015531222015852109\n",
      "Epoch 80 | Train Loss 0.00015124009723876952\n",
      "Epoch 80 | Val Loss 0.00015537274157395586\n",
      "Epoch 90 | Train Loss 0.0001513041288490058\n",
      "Epoch 90 | Val Loss 0.00015536524733761325\n",
      "Epoch 100 | Train Loss 0.00015137875971049652\n",
      "Epoch 100 | Val Loss 0.00015536548744421452\n",
      "Epoch 110 | Train Loss 0.00015147598924158956\n",
      "Epoch 110 | Val Loss 0.00015542768232990056\n",
      "Epoch 120 | Train Loss 0.00015155371011132956\n",
      "Epoch 120 | Val Loss 0.00015570508548989892\n",
      "Epoch 130 | Train Loss 0.00015164148680923972\n",
      "Epoch 130 | Val Loss 0.00015573092241538689\n",
      "Epoch 140 | Train Loss 0.0001517165283075883\n",
      "Epoch 140 | Val Loss 0.00015586786321364343\n",
      "Epoch 150 | Train Loss 0.0001517788746241422\n",
      "Epoch 150 | Val Loss 0.00015605018415953964\n",
      "Epoch 160 | Train Loss 0.00015183735831669765\n",
      "Epoch 160 | Val Loss 0.0001560868404339999\n",
      "Epoch 170 | Train Loss 0.0001518857579867472\n",
      "Epoch 170 | Val Loss 0.000156075919221621\n",
      "Epoch 180 | Train Loss 0.00015193718536465894\n",
      "Epoch 180 | Val Loss 0.00015612383867846802\n",
      "Epoch 190 | Train Loss 0.00015197454786175513\n",
      "Epoch 190 | Val Loss 0.0001561181852594018\n"
     ]
    }
   ],
   "source": [
    "epochs = 200 #Number of steps to train the model\n",
    "\n",
    "lloss_train = []\n",
    "lloss_val = []\n",
    "for i in range(epochs):\n",
    "  aux_train = 0\n",
    "  model.train()  #Telling the model we are training :p\n",
    "  for x, y in train_loader:\n",
    "    x = x.to(device)\n",
    "    y = y.to(device)\n",
    "    prediction = model(x)\n",
    "    tloss = loss_func(prediction, y) \n",
    "    optimizer.zero_grad() #set the gradients to zero before starting to do backpropagation (i.e., updating the weights and biases)\n",
    "    tloss.backward() #calculate the gradient during the backward pass in the neural network       \n",
    "    optimizer.step() #performs a single optimization step (parameter update)\n",
    "    aux_train += tloss.item()\n",
    "  lloss_train.append( aux_train/len(train_loader) )     \n",
    "  if i % 10 == 0:\n",
    "    print(f\"Epoch {i} | Train Loss {aux_train/len(train_loader)}\")\n",
    "\n",
    "  aux_val = 0\n",
    "  model.eval() #Telling the model we are testing :p\n",
    "  for x, y in val_loader:\n",
    "    x = x.to(device)\n",
    "    y = y.to(device)\n",
    "    prediction = model(x)\n",
    "    vloss = loss_func(prediction, y) \n",
    "    aux_val += vloss.item()\n",
    "  lloss_val.append( aux_val/len(val_loader) )\n",
    "  if i % 10 == 0:\n",
    "    print(f\"Epoch {i} | Val Loss {aux_val/len(val_loader)}\")"
   ]
  },
  {
   "cell_type": "markdown",
   "id": "1c53fb65-e32e-459d-bd9c-0e5ff28e28bb",
   "metadata": {},
   "source": [
    "## 7) Taking a look at the loss function\n",
    "\n",
    "Here we can see if our model is **overfitting**, **underfitting** or doing well"
   ]
  },
  {
   "cell_type": "code",
   "execution_count": 14,
   "id": "c7819aa6-2325-4c36-97ae-5c58d277f495",
   "metadata": {},
   "outputs": [
    {
     "data": {
      "image/png": "[encoded data removed]",
      "text/plain": [
       "<Figure size 640x480 with 1 Axes>"
      ]
     },
     "metadata": {},
     "output_type": "display_data"
    }
   ],
   "source": [
    "plt.figure(dpi = 100)\n",
    "plt.plot(lloss_train, label = 'Train')\n",
    "plt.plot(lloss_val, label = 'Val')\n",
    "plt.legend()\n",
    "plt.yscale('log')"
   ]
  },
  {
   "cell_type": "markdown",
   "id": "d0e682be-aec2-413f-a6ac-be212e8c0c49",
   "metadata": {},
   "source": [
    "## 8) Testing the model in the test set"
   ]
  },
  {
   "cell_type": "code",
   "execution_count": 15,
   "id": "517c13b6-bc93-4baa-a9f3-52105ad1ced3",
   "metadata": {},
   "outputs": [
    {
     "name": "stderr",
     "output_type": "stream",
     "text": [
      "/Users/natalidesanti/env_pytorch/lib/python3.11/site-packages/torch/nn/modules/loss.py:535: UserWarning: Using a target size (torch.Size([100])) that is different to the input size (torch.Size([100, 1])). This will likely lead to incorrect results due to broadcasting. Please ensure they have the same size.\n",
      "  return F.mse_loss(input, target, reduction=self.reduction)\n"
     ]
    }
   ],
   "source": [
    "lloss_test = []\n",
    "preds = []\n",
    "xss = []\n",
    "yss = []\n",
    "for x, y in test_loader:\n",
    "  out = model( x.to(device))\n",
    "  preds.append( out.detach().cpu().numpy() )\n",
    "  xss.append( np.array( x ) )\n",
    "  yss.append( np.array( y ) )\n",
    "  loss = loss_func(out, torch.from_numpy( np.array(y[:, 0]) ).float().to(device))\n",
    "lloss_test.append( loss.data.cpu().numpy() )"
   ]
  },
  {
   "cell_type": "markdown",
   "id": "1477b0a6-2f00-45ef-9309-92898b273796",
   "metadata": {},
   "source": [
    "Arranging the batches results"
   ]
  },
  {
   "cell_type": "code",
   "execution_count": 16,
   "id": "57272ee8-c903-4f19-a7ae-a1cb51c69b32",
   "metadata": {},
   "outputs": [
    {
     "data": {
      "text/plain": [
       "((200, 1), (200, 1), (200, 1))"
      ]
     },
     "execution_count": 16,
     "metadata": {},
     "output_type": "execute_result"
    }
   ],
   "source": [
    "new_preds = np.concatenate( [preds[i] for i in range(len(preds))])\n",
    "new_yss = np.concatenate( [yss[i] for i in range(len(yss))])\n",
    "new_xss = np.concatenate( [xss[i] for i in range(len(xss))])\n",
    "new_preds.shape, new_yss.shape, new_xss.shape"
   ]
  },
  {
   "cell_type": "code",
   "execution_count": 17,
   "id": "58f35338-d313-477c-9f55-e3862e8d3ca8",
   "metadata": {},
   "outputs": [],
   "source": [
    "df = pd.DataFrame()\n",
    "\n",
    "df[\"x_truth\"] = new_xss[:, 0]*std + mean\n",
    "df[\"y_truth\"] = new_yss[:, 0]*(max - min) + min\n",
    "df[\"y_pred\"] = new_preds[:, 0]*(max - min) + min"
   ]
  },
  {
   "cell_type": "markdown",
   "id": "35d1cf3c-94ba-4850-9de5-103560329e43",
   "metadata": {},
   "source": [
    "### 8.1) Computing the MSE for the test set"
   ]
  },
  {
   "cell_type": "code",
   "execution_count": 18,
   "id": "e01e86b3-5f4c-47a3-9b43-9808fdf2bd95",
   "metadata": {},
   "outputs": [
    {
     "data": {
      "text/plain": [
       "0.0027561695"
      ]
     },
     "execution_count": 18,
     "metadata": {},
     "output_type": "execute_result"
    }
   ],
   "source": [
    "loss_test = np.mean(lloss_test)\n",
    "loss_test"
   ]
  },
  {
   "cell_type": "markdown",
   "id": "e92c46d5-09a5-4ca1-81f6-80b249639b17",
   "metadata": {},
   "source": [
    "### 8.2) Looking at the predictions for the test set"
   ]
  },
  {
   "cell_type": "code",
   "execution_count": 19,
   "id": "90213b69-fc6b-4cf5-bb95-f4e086cc9290",
   "metadata": {},
   "outputs": [
    {
     "data": {
      "image/png": "[encoded data removed]",
      "text/plain": [
       "<Figure size 640x480 with 1 Axes>"
      ]
     },
     "metadata": {},
     "output_type": "display_data"
    }
   ],
   "source": [
    "plt.figure(dpi = 100)\n",
    "plt.title('Histogram')\n",
    "plt.hist(df[\"y_truth\"], bins = 40, label = 'Truth', color = \"gray\")\n",
    "plt.hist(df[\"y_pred\"], bins = 40, label = 'Pred', alpha = 0.3, color = \"r\")\n",
    "plt.ylabel('# of points')\n",
    "plt.xlabel('y values')\n",
    "plt.legend()\n",
    "plt.yscale('log')"
   ]
  },
  {
   "cell_type": "code",
   "execution_count": 20,
   "id": "d69b7dc7-4a9d-436e-ae02-5c57e95b0b71",
   "metadata": {},
   "outputs": [
    {
     "data": {
      "text/plain": [
       "Text(0.5, 0, 'Truth')"
      ]
     },
     "execution_count": 20,
     "metadata": {},
     "output_type": "execute_result"
    },
    {
     "data": {
      "image/png": "[encoded data removed]",
      "text/plain": [
       "<Figure size 500x500 with 1 Axes>"
      ]
     },
     "metadata": {},
     "output_type": "display_data"
    }
   ],
   "source": [
    "plt.figure(dpi = 100, figsize = (5, 5))\n",
    "plt.title('Pred X Truth')\n",
    "plt.plot(df[\"y_truth\"], df[\"y_truth\"], color = 'gray', label = 'True')\n",
    "plt.scatter(df[\"y_truth\"], df[\"y_pred\"], c = 'r', s = 5, label = 'Pred')\n",
    "plt.legend()\n",
    "plt.ylabel('Pred')\n",
    "plt.xlabel('Truth')"
   ]
  },
  {
   "cell_type": "code",
   "execution_count": null,
   "id": "9445cd36-1b4b-4abf-82d6-262eb05af2e9",
   "metadata": {},
   "outputs": [],
   "source": []
  }
 ],
 "metadata": {
  "kernelspec": {
   "display_name": "env_pytorch",
   "language": "python",
   "name": "env_pytorch"
  },
  "language_info": {
   "codemirror_mode": {
    "name": "ipython",
    "version": 3
   },
   "file_extension": ".py",
   "mimetype": "text/x-python",
   "name": "python",
   "nbconvert_exporter": "python",
   "pygments_lexer": "ipython3",
   "version": "3.11.4"
  }
 },
 "nbformat": 4,
 "nbformat_minor": 5
}
